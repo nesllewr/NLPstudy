{
 "cells": [
  {
   "cell_type": "markdown",
   "metadata": {},
   "source": [
    "## 파이썬 정규 표현식(Regular Expressions)\n",
    "https://devanix.tistory.com/296\n",
    "\n",
    ": 복한 문자열 패턴을 검색하고, 추출하고, 대치하는 규칙을 정의하는 문자열,\n",
    "파이썬에서는 re 모듈이 제공된다\n",
    "\n",
    "### 반복 관련 메타 문자 : *, +, ?, {m}, {m,n} \n",
    "#### (메타 문자란 원래 그 문자가 가진 뜻이 아닌 특별한 용도로 사용하는 문자를 말한다.)\n",
    "- *는 반복을 나타내는 메타문자로써, 해당 메타문자 앞의 글자가 0번이상 반복되는 모든 문자열과 매치됩니다.\n",
    "- +는 *과 같은 반복을 나타내는 메타문자, *는 다르게 앞의 글자가 0번을 제외한, 1번이상 반복되는 모든 문자열과 매치됩니다.\n",
    "- ? 는 앞의 문자가 0~1번 반복되는 모든 문자열과 매치됩니다.\n",
    "- {m}는  반복횟수를 m으로 정할 수 있습니다. 앞의 문자가 m번 이상  반복되는 모든 문자열과 매치 됩니다.\n",
    "- {m,n}는  반복횟수를 m과 n으로 정할 수 있습니다. 앞의 문자가 m번 이상 n번이하 반복되는 모든 문자열과 매치 됩니다.\n",
    "\n",
    "\n",
    "### 매칭 관련 메타 문자\n",
    "- .(Dot) 은 줄바꿈 문자인 \\n을 제외한 모든 하나의 문자와 매치되는 것을 의미합니다.\n",
    "- ^는 문자열의 맨처음을 의미하는 메타문자, 메타 문자 [] 내부에서는 반대, 즉 not의 의미로 사용되므로 혼동되지 않도록 주의하세요. 정규식으로 찾고자 하는 문자열의 앞에 입력합니다.\n",
    "\n",
    "- \\\\$ 는 '^'와 반대로 문자열의 맨 마지막을 의미하는 메타문자 입니다. '^'와는 다르게 매치할 문자열의 뒤에 입력합니다.  메타 문자 [ ] 내부에서는 순수하게 $ 문자를 의미합니다\n",
    "\n",
    "- [] 는 문자 클래스(집합)을 나타낸다, [abc]는 a,b,c중 한 문자를 의미한다, []으로 둘러싼 내부의 문자열과 매치시킨다\n",
    "- | 는 a|b 와 같은 형식으로 사용되며 a 또는 b와 매치되는 문자열을 반환합니다.\n",
    "- ( )는 정규식을 그룹으로 묶는다"
   ]
  },
  {
   "cell_type": "markdown",
   "metadata": {},
   "source": [
    "###  문자열 매칭하기"
   ]
  },
  {
   "cell_type": "code",
   "execution_count": 1,
   "metadata": {},
   "outputs": [],
   "source": [
    "import re\n",
    "re.match('[0-9]','1234') # 정수 0에서 9까지의 문자열과 문자열 '1234'을 매칭 시킨다, '1' 과 매칭됨"
   ]
  },
  {
   "cell_type": "code",
   "execution_count": 2,
   "metadata": {},
   "outputs": [],
   "source": [
    "m = re.match('[0-9]','abc') # 정수 0에서 9까지의 문자열과 문자열 'abc'을 매칭 시킨다,실패\n",
    "print(m)"
   ]
  },
  {
   "cell_type": "code",
   "execution_count": 3,
   "metadata": {},
   "outputs": [
    {
     "data": {
      "text/plain": [
       "'1'"
      ]
     },
     "execution_count": 3,
     "metadata": {},
     "output_type": "execute_result"
    }
   ],
   "source": [
    "# group() 메서드 : 매칭된 문자열을 반환한다\n",
    "m = re.match('[0-9]','1234')\n",
    "m.group()"
   ]
  },
  {
   "cell_type": "code",
   "execution_count": 4,
   "metadata": {},
   "outputs": [
    {
     "name": "stdout",
     "output_type": "stream",
     "text": [
      "1234\n"
     ]
    },
    {
     "data": {
      "text/plain": [
       "<re.Match object; span=(0, 4), match='1234'>"
      ]
     },
     "execution_count": 4,
     "metadata": {},
     "output_type": "execute_result"
    }
   ],
   "source": [
    "m = re.match('[0-9]+','1234') #  # 숫자가 1회 이상 발생하는 것과 매칭한다,[0-9]+는 0~9사이의 수가 여러번 반복허용\n",
    "print(m.group())\n",
    "m"
   ]
  },
  {
   "cell_type": "code",
   "execution_count": 5,
   "metadata": {},
   "outputs": [
    {
     "data": {
      "text/plain": [
       "'1234'"
      ]
     },
     "execution_count": 5,
     "metadata": {},
     "output_type": "execute_result"
    }
   ],
   "source": [
    "m = re.match('[0-9]+','1234 ') # 뒤에 공백이 온 경우도 매칭한다\n",
    "m.group()"
   ]
  },
  {
   "cell_type": "code",
   "execution_count": 6,
   "metadata": {},
   "outputs": [
    {
     "name": "stdout",
     "output_type": "stream",
     "text": [
      "<re.Match object; span=(0, 4), match='1234'>\n",
      "1234\n",
      "1234\n"
     ]
    }
   ],
   "source": [
    "print(m)\n",
    "print(m.group(0))\n",
    "print(m.group())"
   ]
  },
  {
   "cell_type": "code",
   "execution_count": 7,
   "metadata": {},
   "outputs": [],
   "source": [
    "re.match('[0-9]+',' 1234') # 앞에 공백이 온 경우, 실패"
   ]
  },
  {
   "cell_type": "markdown",
   "metadata": {},
   "source": [
    "###  특수문자\n",
    "- \\d - 숫자와 매치, [0-9]와 동일한 표현식이다.\n",
    "- \\D - 숫자가 아닌 것과 매치, [^0-9]와 동일한 표현식이다.\n",
    "- \\s - whitespace 문자와 매치, [ \\t\\n\\r\\f\\v]와 동일한 표현식이다. 맨 앞의 빈 칸은 공백문자(space)를 의미한다.\n",
    "- \\S - whitespace 문자가 아닌 것과 매치, [^ \\t\\n\\r\\f\\v]와 동일한 표현식이다.\n",
    "- \\w - 문자+숫자(alphanumeric)와 매치, [a-zA-Z0-9_]와 동일한 표현식이다.\n",
    "- \\W - 문자+숫자(alphanumeric)가 아닌 문자와 매치, [^a-zA-Z0-9_]와 동일한 표현식이다.\n",
    "- \\b - 단어의 경계를 표현한다, 단어는 영문자난 숫자의 연속 문자열로 가정한다\n",
    "- \\B - \\b와 반대로 단어의 경계가 아님을 표현한다"
   ]
  },
  {
   "cell_type": "code",
   "execution_count": 8,
   "metadata": {},
   "outputs": [
    {
     "data": {
      "text/plain": [
       "' 1234'"
      ]
     },
     "execution_count": 8,
     "metadata": {},
     "output_type": "execute_result"
    }
   ],
   "source": [
    "# \\s - whitespace 문자와 매치, [ \\t\\n\\r\\f\\v]와 동일한 표현식이다. 맨 앞의 빈 칸은 공백문자(space)를 의미한다.\n",
    "m = re.match('\\s*[0-9]+',' 1234') # 앞에 공백이 온 경우 , 매칭됨\n",
    "m.group()"
   ]
  },
  {
   "cell_type": "code",
   "execution_count": 9,
   "metadata": {},
   "outputs": [
    {
     "data": {
      "text/plain": [
       "' 1234'"
      ]
     },
     "execution_count": 9,
     "metadata": {},
     "output_type": "execute_result"
    }
   ],
   "source": [
    "# 그룹 : ( )\n",
    "m = re.match('\\s*([0-9]+)',' 1234')\n",
    "m.group()"
   ]
  },
  {
   "cell_type": "code",
   "execution_count": 10,
   "metadata": {},
   "outputs": [
    {
     "data": {
      "text/plain": [
       "'1234'"
      ]
     },
     "execution_count": 10,
     "metadata": {},
     "output_type": "execute_result"
    }
   ],
   "source": [
    "m.group(1) # ()으로 그룹으로 묶은 첫번째 그룸 문자열을 반환한다, 1이 첫번째, 0은 전체"
   ]
  },
  {
   "cell_type": "code",
   "execution_count": 11,
   "metadata": {},
   "outputs": [
    {
     "data": {
      "text/plain": [
       "' 1234'"
      ]
     },
     "execution_count": 11,
     "metadata": {},
     "output_type": "execute_result"
    }
   ],
   "source": [
    "# \\d - 숫자와 매치, [0-9]와 동일한 표현식\n",
    "m = re.match('\\s*(\\d+)',' 1234 ')\n",
    "m.group()"
   ]
  },
  {
   "cell_type": "markdown",
   "metadata": {},
   "source": [
    "#### match()와 search() 함수의 차이\n",
    "- match() 함수는 문자열이 시작부터 일치하는지 검사\n",
    "- search() 함수는 부분적으로 일치하는 문자열이 있는지를 검사"
   ]
  },
  {
   "cell_type": "code",
   "execution_count": 12,
   "metadata": {},
   "outputs": [
    {
     "name": "stdout",
     "output_type": "stream",
     "text": [
      "<class 're.Match'>\n"
     ]
    },
    {
     "data": {
      "text/plain": [
       "'1034'"
      ]
     },
     "execution_count": 12,
     "metadata": {},
     "output_type": "execute_result"
    }
   ],
   "source": [
    "m = re.search('\\d+',' 1034 ')\n",
    "print(type(m))\n",
    "m.group()"
   ]
  },
  {
   "cell_type": "code",
   "execution_count": 13,
   "metadata": {},
   "outputs": [
    {
     "data": {
      "text/plain": [
       "'1034'"
      ]
     },
     "execution_count": 13,
     "metadata": {},
     "output_type": "execute_result"
    }
   ],
   "source": [
    "m = re.search('\\d+',' -1034a ')\n",
    "m.group()"
   ]
  },
  {
   "cell_type": "code",
   "execution_count": 14,
   "metadata": {},
   "outputs": [],
   "source": [
    "re.search('\\s\\d+\\s',' 1034a ')  # 실패"
   ]
  },
  {
   "cell_type": "code",
   "execution_count": 15,
   "metadata": {},
   "outputs": [
    {
     "data": {
      "text/plain": [
       "<re.Match object; span=(0, 6), match=' 1034 '>"
      ]
     },
     "execution_count": 15,
     "metadata": {},
     "output_type": "execute_result"
    }
   ],
   "source": [
    "re.search('\\s\\d+\\s',' 1034 a ')  # 성공"
   ]
  },
  {
   "cell_type": "code",
   "execution_count": 16,
   "metadata": {},
   "outputs": [
    {
     "data": {
      "text/plain": [
       "'1034'"
      ]
     },
     "execution_count": 16,
     "metadata": {},
     "output_type": "execute_result"
    }
   ],
   "source": [
    "re.search('\\s(\\d+)\\s',' 1034 a ').group(1)  # 성공"
   ]
  },
  {
   "cell_type": "markdown",
   "metadata": {},
   "source": [
    "### RAW 모드로 정규식 표현하기\n",
    ":  r'문자열 '"
   ]
  },
  {
   "cell_type": "code",
   "execution_count": 17,
   "metadata": {},
   "outputs": [],
   "source": [
    "re.search('\\s(\\d+)\\s',' 1034')  # 실패"
   ]
  },
  {
   "cell_type": "code",
   "execution_count": 18,
   "metadata": {},
   "outputs": [],
   "source": [
    "# \\b - 단어의 경계를 표현한다\n",
    "re.search('\\b(\\d+)\\b',' 1034 a')  # 매칭 실패 : '\\b' 가 Backspace 로 처리 되었기 때문이다"
   ]
  },
  {
   "cell_type": "code",
   "execution_count": 19,
   "metadata": {},
   "outputs": [
    {
     "data": {
      "text/plain": [
       "<re.Match object; span=(1, 5), match='1034'>"
      ]
     },
     "execution_count": 19,
     "metadata": {},
     "output_type": "execute_result"
    }
   ],
   "source": [
    "re.search('\\\\b(\\d+)\\\\b',' 1034 a') # \\\\b 형태로 넣어 성공"
   ]
  },
  {
   "cell_type": "code",
   "execution_count": 20,
   "metadata": {},
   "outputs": [
    {
     "data": {
      "text/plain": [
       "('\\\\d', '\\x08', '\\\\b')"
      ]
     },
     "execution_count": 20,
     "metadata": {},
     "output_type": "execute_result"
    }
   ],
   "source": [
    "'\\d', '\\b','\\\\b'   \n",
    "# '\\d'는 파이썬에서 특수 문자로 등록 되지 않았으므로 그대로 '\\d' 문자열로 받아들여짐\n",
    "# '\\b'는 Backspace로 치환 되므로 RAW모드 사용이 필요: 문자열 앞에 r을 추가한것"
   ]
  },
  {
   "cell_type": "code",
   "execution_count": 21,
   "metadata": {},
   "outputs": [
    {
     "data": {
      "text/plain": [
       "'1034'"
      ]
     },
     "execution_count": 21,
     "metadata": {},
     "output_type": "execute_result"
    }
   ],
   "source": [
    "re.search(r'\\b(\\d+)\\b',' 1034 a ').group() # RAW 모드 표기로 성공"
   ]
  },
  {
   "cell_type": "code",
   "execution_count": 22,
   "metadata": {},
   "outputs": [],
   "source": [
    "# re.search('\\\\', 'dir1\\\\dir2').group() # 오류"
   ]
  },
  {
   "cell_type": "code",
   "execution_count": 23,
   "metadata": {},
   "outputs": [
    {
     "data": {
      "text/plain": [
       "'\\\\'"
      ]
     },
     "execution_count": 23,
     "metadata": {},
     "output_type": "execute_result"
    }
   ],
   "source": [
    "re.search('\\\\\\\\', 'dir1\\\\\\\\dir2').group()"
   ]
  },
  {
   "cell_type": "code",
   "execution_count": 24,
   "metadata": {},
   "outputs": [],
   "source": [
    "# re.search('\\\\', r'dir1\\dir2').group() #  오류"
   ]
  },
  {
   "cell_type": "code",
   "execution_count": 25,
   "metadata": {},
   "outputs": [
    {
     "data": {
      "text/plain": [
       "'\\\\'"
      ]
     },
     "execution_count": 25,
     "metadata": {},
     "output_type": "execute_result"
    }
   ],
   "source": [
    "re.search(r'\\\\', r'dir1\\dir2').group() # RAW 모드 표기로 성공"
   ]
  },
  {
   "cell_type": "code",
   "execution_count": 26,
   "metadata": {},
   "outputs": [
    {
     "name": "stdout",
     "output_type": "stream",
     "text": [
      "\\\n"
     ]
    }
   ],
   "source": [
    "# print('\\') # 파이썬 오류\n",
    "print('\\\\')"
   ]
  },
  {
   "cell_type": "markdown",
   "metadata": {},
   "source": [
    "### 최소 매칭 : *?, +?, ??, {m.n}?"
   ]
  },
  {
   "cell_type": "code",
   "execution_count": 27,
   "metadata": {},
   "outputs": [
    {
     "data": {
      "text/plain": [
       "'index.html\">HERE</a><font size=\"10'"
      ]
     },
     "execution_count": 27,
     "metadata": {},
     "output_type": "execute_result"
    }
   ],
   "source": [
    "# Greedy Matching\n",
    "re.search(r'href=\"(.*)\"', '<a href=\"index.html\">HERE</a><font size=\"10\">').group(1)"
   ]
  },
  {
   "cell_type": "code",
   "execution_count": 28,
   "metadata": {},
   "outputs": [
    {
     "data": {
      "text/plain": [
       "'index.html'"
      ]
     },
     "execution_count": 28,
     "metadata": {},
     "output_type": "execute_result"
    }
   ],
   "source": [
    "# Non Greedy Matching\n",
    "re.search(r'href=\"(.*?)\"', '<a href=\"index.html\">HERE</a><font size=\"10\">').group(1)"
   ]
  },
  {
   "cell_type": "markdown",
   "metadata": {},
   "source": [
    "### re 패키지 기본 method\n",
    "- re.compile(pattern, string, flags) : # 인수 패턴을 컴파일 하여 정규식 객체로 반환\n",
    "- re.match(pattern, string, flags)   : “문자열의 처음”부터 시작하여 패턴이 일치되는 것이 있는지를 확인한다.\n",
    "- re.search(pattern, string, flags)  : 부분적으로 일치하는 문자열이 있는지를 검사\n",
    "- re.findall(pattern, string, flags) : 문자열 중 패턴과 일치되는 모든 부분을 찾는다.\n",
    "- re.finditer(pattern, string, flags) : .findall과 비슷하지만, 일치된 문자열의 리스트 대신 matchObj 리스트를 반환한다.\n",
    "- re.fullmatch(pattern, string, flags) : 패턴과 문자열이 남는 부분 없이 완벽하게 일치하는지를 검사한다.\n",
    "- re.sub(pattern, repl, string) :인수 string에서 인수 pattern을 인수 repl로 치환한다"
   ]
  },
  {
   "cell_type": "code",
   "execution_count": 29,
   "metadata": {},
   "outputs": [
    {
     "data": {
      "text/plain": [
       "['abc', 'def']"
      ]
     },
     "execution_count": 29,
     "metadata": {},
     "output_type": "execute_result"
    }
   ],
   "source": [
    "re.findall(r'[_a-zA-Z]\\w*','123 abc 123 def')"
   ]
  },
  {
   "cell_type": "code",
   "execution_count": 30,
   "metadata": {},
   "outputs": [
    {
     "data": {
      "text/plain": [
       "['link1.html', 'link2.html', 'link3.html']"
      ]
     },
     "execution_count": 30,
     "metadata": {},
     "output_type": "execute_result"
    }
   ],
   "source": [
    "s = '''\n",
    "<a href=\"link1.html\">link1</a>\n",
    "<a href=\"link2.html\">link2</a>\n",
    "<a href=\"link3.html\">link3</a>\n",
    "'''\n",
    "re.findall(r'href=\"(.*?)\"',s)"
   ]
  },
  {
   "cell_type": "markdown",
   "metadata": {},
   "source": [
    "### 문자열 치환"
   ]
  },
  {
   "cell_type": "code",
   "execution_count": 31,
   "metadata": {},
   "outputs": [
    {
     "data": {
      "text/plain": [
       "'abc d'"
      ]
     },
     "execution_count": 31,
     "metadata": {},
     "output_type": "execute_result"
    }
   ],
   "source": [
    "re.sub(r'[.,:;]','','a:b:c, d.') #  '.,:;' 문자들을 제거"
   ]
  },
  {
   "cell_type": "code",
   "execution_count": 32,
   "metadata": {},
   "outputs": [
    {
     "data": {
      "text/plain": [
       "'abcd'"
      ]
     },
     "execution_count": 32,
     "metadata": {},
     "output_type": "execute_result"
    }
   ],
   "source": [
    "re.sub(r'\\W','','a:b:c, d.') #  영문자 숫자를 제외한 특수 문자들을 모두 제거"
   ]
  },
  {
   "cell_type": "markdown",
   "metadata": {},
   "source": [
    "### 정규식 객체 사용하기\n",
    " : re.compile(pattern, string, flags) :  인수 패턴을 컴파일 하여 정규식 객체로 반환"
   ]
  },
  {
   "cell_type": "code",
   "execution_count": 33,
   "metadata": {},
   "outputs": [
    {
     "name": "stdout",
     "output_type": "stream",
     "text": [
      "<class 're.Pattern'>\n",
      "\n",
      "park 800905-*******\n",
      "kim  700905-*******\n",
      "\n",
      "800905-1049118\n"
     ]
    }
   ],
   "source": [
    "# 정규식 객체 사용 문자열 치환\n",
    "\n",
    "data = \"\"\"\n",
    "park 800905-1049118\n",
    "kim  700905-1059119\n",
    "\"\"\"\n",
    "\n",
    "pat = re.compile(r\"(\\d{6})[-]\\d{7}\")  # 정규식 객체\n",
    "print(type(pat))  # <class 're.Pattern'>\n",
    "print(pat.sub(\"\\g<1>-*******\",data)) # \\g<그룹번호나 이름>\n",
    "\n",
    "m = pat.search(data,0)\n",
    "print(m.group())  # '800905-1049118'"
   ]
  },
  {
   "cell_type": "code",
   "execution_count": 34,
   "metadata": {},
   "outputs": [
    {
     "name": "stdout",
     "output_type": "stream",
     "text": [
      "<class 're.Pattern'>\n"
     ]
    },
    {
     "data": {
      "text/plain": [
       "['the']"
      ]
     },
     "execution_count": 34,
     "metadata": {},
     "output_type": "execute_result"
    }
   ],
   "source": [
    "# 정규식 객체 사용 findall() 사용\n",
    "p = re.compile('the')   # 인수 패턴을 컴파일 하여 정규식 객체로 반환\n",
    "print(type(p))\n",
    "p.findall('The cat was hungry. They were scared because of the cat')"
   ]
  },
  {
   "cell_type": "markdown",
   "metadata": {},
   "source": [
    "#### 플래그\n",
    "- I, IGNORECASE : 대소문자를 구별하지 않는다\n",
    "- L, LOCALE : \\w, \\W, \\b, \\B를 현재의 로케일에 영향을 받게 한다\n",
    "- M, MULTILINE : ^가 문자열의 맨 처음, 각 라인의 맨 처음과 매치 된다, $는 문자열의 맨 끝, 각 라인의 맨 끝과 매치\n",
    "\n",
    "- S, DOTALL : .을 줄바꾸기 문자도 포함하여 매치하게 한다\n",
    "- U, UNICODE : \\w, \\W, \\b, \\B가 유니코드 문자 특성에 의존하게 한다\n",
    "- X, VERBOSE : 보기 좋게 정규식을 표현할 수 있게 해준다. 정규식 안의 공백은 무시된다"
   ]
  },
  {
   "cell_type": "code",
   "execution_count": 57,
   "metadata": {},
   "outputs": [
    {
     "name": "stdout",
     "output_type": "stream",
     "text": [
      "<class 're.Pattern'>\n"
     ]
    },
    {
     "data": {
      "text/plain": [
       "['The', 'The', 'the']"
      ]
     },
     "execution_count": 57,
     "metadata": {},
     "output_type": "execute_result"
    }
   ],
   "source": [
    "# I, IGNORECASE : 대소문자를 구별하지 않는다\n",
    "p = re.compile('the',re.I)   # 인수 패턴을 컴파일 하여 정규식 객체로 반환\n",
    "print(type(p))\n",
    "p.findall('The cat was hungry. They were scared because of the cat')"
   ]
  },
  {
   "cell_type": "markdown",
   "metadata": {},
   "source": [
    "### 정규표현식 활용"
   ]
  },
  {
   "cell_type": "markdown",
   "metadata": {},
   "source": [
    "### (1) HTML 문서에서 URL Link 추출하기"
   ]
  },
  {
   "cell_type": "code",
   "execution_count": 36,
   "metadata": {},
   "outputs": [
    {
     "name": "stdout",
     "output_type": "stream",
     "text": [
      "['http://www.daum.net']\n",
      "['http://www.naver.com']\n",
      "['http://www.chosun.com']\n"
     ]
    }
   ],
   "source": [
    "s = '''<a href=\"http://www.daum.net\">daum</a>  \n",
    "<a href='http://www.naver.com'>naver</a>  \n",
    "<a href=http://www.chosun.com>chosun</a>  \n",
    "<a href=http://www.chosun.com class>chosun</a>  \n",
    "<a href=\"http://job.daum.net/ \" target=\"new\">  \n",
    "<a href=\"http://go.daum.net/bin/go.cgi?relative=1&url=/Mail-bin/login_f.cgi%3Ferror%3Dlogin\" class=\"tls0\">  \n",
    "'''  \n",
    "\n",
    "# '<a href=' 뒤에 큰 따옴표(\" \") 가 오는 경우\n",
    "p = re.compile('''href=\"([^\"]*?)\"''',re.I)\n",
    "match = p.search(s,0)\n",
    "url = match.groups() # # 매칭된 전체 그룸 문자열을 튜플 형식으로 반환\n",
    "print(list(filter(None,url)))  # ['http://www.daum.net']\n",
    "\n",
    "# '<a href='뒤에 작은 따옴표(' ')가 오는 경우\n",
    "p = re.compile('''href='([^']*?)\\'''',re.I)\n",
    "match = p.search(s,0)\n",
    "url = match.groups() # # 매칭된 전체 그룸 문자열을 튜플 형식으로 반환\n",
    "print(list(filter(None,url)))  # ['http://www.naver.com']\n",
    "\n",
    "# '<a href='뒤에 큰/작은 따옴표가 오고 마지막 공백이 오는 경우\n",
    "p = re.compile('''href=([^'\"]\\S+?)[\\s>]''',re.I)\n",
    "match = p.search(s,0)\n",
    "url = match.groups() # # 매칭된 전체 그룸 문자열을 튜플 형식으로 반환\n",
    "print(list(filter(None,url)))  # ['http://www.chosun.com']\n"
   ]
  },
  {
   "cell_type": "code",
   "execution_count": 37,
   "metadata": {},
   "outputs": [
    {
     "name": "stdout",
     "output_type": "stream",
     "text": [
      "http://www.daum.net\n",
      "http://www.naver.com\n",
      "http://www.chosun.com\n",
      "http://www.chosun.com\n",
      "http://job.daum.net/ \n",
      "http://go.daum.net/bin/go.cgi?relative=1&url=/Mail-bin/login_f.cgi%3Ferror%3Dlogin\n"
     ]
    }
   ],
   "source": [
    "#세개의 정규표현식을 |를 사용하여 하나로 표현 한경우\n",
    "p = re.compile('''href=([^'\"]\\S+?)[\\s>]|href=\"([^\"]*?)\"|href='([^']*?)\\'''', re.I) \n",
    "pos = 0\n",
    "\n",
    "i = 0\n",
    "while True:\n",
    "    # print(i,pos)\n",
    "    i+=1\n",
    "    match = p.search(s,pos)\n",
    "    if match:\n",
    "        url = match.groups()\n",
    "        # print(url)\n",
    "        pos = match.end() # 매칭된 문자열의 끝 위치를 반환\n",
    "        print(list(filter(None,url))[0])\n",
    "    else:\n",
    "        break\n",
    " # filter함수는 특정 조건으로 걸러서 걸러진 요소들로 iterator객체를 만들어서 리턴해줍니다.\n",
    "# map함수와 사용 방법은 동일하나, 함수의 결과가 참인지 거짓인지에 따라, 해당 요소를 포함할지를 결정합니다.      \n",
    "    "
   ]
  },
  {
   "cell_type": "code",
   "execution_count": 38,
   "metadata": {},
   "outputs": [
    {
     "name": "stdout",
     "output_type": "stream",
     "text": [
      "[10]\n",
      "[1, 10]\n",
      "[]\n"
     ]
    }
   ],
   "source": [
    "# filter 출력 결과\n",
    "print(list(filter(None,(None,10,None))))\n",
    "print(list(filter(None,(1,None,10))))\n",
    "print(list(filter(None,(None,None,None))))"
   ]
  },
  {
   "cell_type": "code",
   "execution_count": 39,
   "metadata": {},
   "outputs": [
    {
     "data": {
      "text/plain": [
       "['apple', 'banana', 'grape']"
      ]
     },
     "execution_count": 39,
     "metadata": {},
     "output_type": "execute_result"
    }
   ],
   "source": [
    "L = ['apple','banana','','grape']\n",
    "list(filter(None,L)) # 리스트에서 의미 없는 값을 삭제할 대 사용\n",
    " # filter() 함수의 첫번째 인수로 None 객체를 사용하면 입력값을 진리값을 판별하는데 그대로 사용할 수 있다"
   ]
  },
  {
   "cell_type": "code",
   "execution_count": 40,
   "metadata": {},
   "outputs": [
    {
     "name": "stdout",
     "output_type": "stream",
     "text": [
      "False\n",
      "True\n",
      "False\n",
      "True\n",
      "False\n",
      "True\n",
      "False\n",
      "True\n",
      "False\n",
      "True\n",
      "[2, 4, 6, 8, 10]\n"
     ]
    }
   ],
   "source": [
    "# filter함수의 필요성\n",
    "target = [1, 2, 3, 4, 5, 6, 7, 8, 9, 10]\n",
    "result = []\n",
    "\n",
    "def is_even(n):\n",
    "      return True if n % 2 == 0 else False\n",
    "\n",
    "for value in target:\n",
    "    print(is_even(value))\n",
    "        \n",
    "    if is_even(value):\n",
    "        result.append(value)\n",
    "\n",
    "print(result)  # 출력결과 : [2, 4, 6, 8, 10]"
   ]
  },
  {
   "cell_type": "code",
   "execution_count": 41,
   "metadata": {},
   "outputs": [
    {
     "name": "stdout",
     "output_type": "stream",
     "text": [
      "<filter object at 0x0000025F25ACC488> [2, 4, 6, 8, 10]\n"
     ]
    }
   ],
   "source": [
    "# filter 함수 사용\n",
    "target = [1, 2, 3, 4, 5, 6, 7, 8, 9, 10]\n",
    "\n",
    "def is_even(n):\n",
    "    return True if n % 2 == 0 else False\n",
    "\n",
    "result = filter(is_even, target)\n",
    "\n",
    "print(result,list(result)) # 출력결과 : [2, 4, 6, 8, 10]"
   ]
  },
  {
   "cell_type": "code",
   "execution_count": 42,
   "metadata": {},
   "outputs": [
    {
     "name": "stdout",
     "output_type": "stream",
     "text": [
      "[2, 4, 6, 8, 10]\n"
     ]
    }
   ],
   "source": [
    "# filter 함수 사용 : 람다 사용\n",
    "target = [1, 2, 3, 4, 5, 6, 7, 8, 9, 10]\n",
    "result = filter(lambda x : x%2==0, target)\n",
    "print(list(result))"
   ]
  },
  {
   "cell_type": "markdown",
   "metadata": {},
   "source": [
    "### (2) 어휘 분석기 구현"
   ]
  },
  {
   "cell_type": "code",
   "execution_count": 105,
   "metadata": {},
   "outputs": [
    {
     "name": "stdout",
     "output_type": "stream",
     "text": [
      "['(False|None|True|and|as|assert|async|await|break|class|continue|def|del|elif|else|except|finally|for|from|global|if|import|in|is|lambda|nonlocal|not|or|pass|raise|return|try|while|with|yield)', '([a-zA-Z_]\\\\w*)', '(\\\\d+|\\\\d+\\\\.\\\\d*|\\\\.\\\\d+)', '(\\\\()', '(\\\\))', '(\\\\+)', '(:)', '(\\\\s+)']\n",
      "('WHITESPACE', '\\n    ')\n",
      "('KEYWORD', 'for')\n",
      "('WHITESPACE', ' ')\n",
      "('NAME', 'i')\n",
      "('WHITESPACE', ' ')\n",
      "('KEYWORD', 'in')\n",
      "('WHITESPACE', ' ')\n",
      "('NAME', 'range')\n",
      "('LPAREN', '(')\n",
      "('NUMBER', '10')\n",
      "('RPAREN', ')')\n",
      "('COLON', ':')\n",
      "('WHITESPACE', '\\n        ')\n",
      "('NAME', 'print')\n",
      "('WHITESPACE', ' ')\n",
      "('LPAREN', '(')\n",
      "('NAME', 'i')\n",
      "('WHITESPACE', ' ')\n",
      "('PLUS', '+')\n",
      "('WHITESPACE', ' ')\n",
      "('NUMBER', '5')\n",
      "('RPAREN', ')')\n"
     ]
    }
   ],
   "source": [
    "# 파이썬 소스코드를 키워드별로 분석해준다\n",
    "\n",
    "import re\n",
    "import keyword\n",
    "\n",
    "# print('|'.join(keyword.kwlist))\n",
    "\n",
    "# 정규식 리스트\n",
    "tokenREList = [\n",
    "    ('KEYWORD','|'.join(keyword.kwlist)), # 파이썬 키워드\n",
    "    ('NAME',r'[a-zA-Z_]\\w*'),             # 첫문자는 영문자나 밑줄로 시작,두번째부터는 문자는 영문자나 숫자나 밑줄로 시작,키워드가 아닌 변수나 함수\n",
    "    ('NUMBER', r'\\d+|\\d+\\.\\d*|\\.\\d+'),    # 정수나 실수(소수점 사용), 정수 | 정수.정수 |.정수\n",
    "    ('LPAREN', r'\\('),                    # 왼쪽 인자\n",
    "    ('RPAREN', r'\\)'),                    # 오른쪽 인자\n",
    "    ('PLUS', r'\\+'),                      # 더하기\n",
    "    ('COLON', r':'),                      # 콜론\n",
    "    ('WHITESPACE', r'\\s+')                # 공백\n",
    "]\n",
    "\n",
    "rexp = ['(%s)'%exp for tokName,exp in tokenREList]\n",
    "print(rexp)\n",
    "\n",
    "p = re.compile('|'.join(rexp))\n",
    "\n",
    "def lex(s):\n",
    "    pos = 0\n",
    "    match = p.match(s,pos)\n",
    "    i = 0\n",
    "    while match:\n",
    "        # print(i)\n",
    "        # i +=1\n",
    "        token = match.groups()\n",
    "        # print(token)\n",
    "        pos = match.end()\n",
    "        # print(pos)\n",
    "        for k in range(len(token)): # 8회\n",
    "            if token[k] : break\n",
    "#         else:\n",
    "#            break\n",
    "        # print(i,tokenREList[k][0], token[k])\n",
    "        yield (tokenREList[k][0], token[k])\n",
    "        match = p.match(s,pos)\n",
    "        \n",
    "if __name__ == '__main__':\n",
    "    s = '''\n",
    "    for i in range(10):\n",
    "        print (i + 5)'''   \n",
    "    i = 0\n",
    "    # print(type(lex(s))) # <class 'generator'>\n",
    "    for tok in lex(s): # 22회\n",
    "#         print(i)\n",
    "#         i+=1\n",
    "        print(tok)\n",
    "        "
   ]
  },
  {
   "cell_type": "markdown",
   "metadata": {},
   "source": [
    "### 제네레이터(Generator , 발생자)"
   ]
  },
  {
   "cell_type": "code",
   "execution_count": 83,
   "metadata": {},
   "outputs": [
    {
     "name": "stdout",
     "output_type": "stream",
     "text": [
      "(200, 30)\n",
      "(2, 3)\n"
     ]
    }
   ],
   "source": [
    "# 기존의 함수 호출 방식은 함수가 호출될 때 인수들의 내부 변수들이 새로운 영역(스택)에 \n",
    "# 만들어지고 반환시 메모리에서 소멸된다\n",
    "def f(a,b):\n",
    "    c = a * b\n",
    "    d = a + b\n",
    "    return c,d\n",
    "\n",
    "print(f(10,20))\n",
    "print(f(1,2))"
   ]
  },
  {
   "cell_type": "code",
   "execution_count": 93,
   "metadata": {},
   "outputs": [
    {
     "name": "stdout",
     "output_type": "stream",
     "text": [
      "<class 'generator'>\n",
      "1st step\n"
     ]
    },
    {
     "data": {
      "text/plain": [
       "1"
      ]
     },
     "execution_count": 93,
     "metadata": {},
     "output_type": "execute_result"
    }
   ],
   "source": [
    "# 제네레이터는 중단된 시점부터 재 실행이 가능한 함수\n",
    "# return 대신에 키워드 yield를 사용한다\n",
    "\n",
    "def gen_func():\n",
    "    print('1st step')\n",
    "    yield 1\n",
    "    print('2nd step')\n",
    "    yield 2\n",
    "    print('3nd step')\n",
    "    yield 3  \n",
    "    \n",
    "g = gen_func()    #  generator 객체를 생성한다\n",
    "print(type(g))    # <class 'generator'>\n",
    "\n",
    "a = next(g)       # 최초 호출\n",
    "a"
   ]
  },
  {
   "cell_type": "code",
   "execution_count": 94,
   "metadata": {},
   "outputs": [
    {
     "name": "stdout",
     "output_type": "stream",
     "text": [
      "2nd step\n"
     ]
    },
    {
     "data": {
      "text/plain": [
       "2"
      ]
     },
     "execution_count": 94,
     "metadata": {},
     "output_type": "execute_result"
    }
   ],
   "source": [
    "b = next(g)\n",
    "b"
   ]
  },
  {
   "cell_type": "code",
   "execution_count": 95,
   "metadata": {},
   "outputs": [
    {
     "name": "stdout",
     "output_type": "stream",
     "text": [
      "3nd step\n"
     ]
    },
    {
     "data": {
      "text/plain": [
       "3"
      ]
     },
     "execution_count": 95,
     "metadata": {},
     "output_type": "execute_result"
    }
   ],
   "source": [
    "c = next(g)\n",
    "c"
   ]
  },
  {
   "cell_type": "code",
   "execution_count": 97,
   "metadata": {},
   "outputs": [
    {
     "name": "stdout",
     "output_type": "stream",
     "text": [
      "0 1 2 3 4 5 6 7 8 9 <class 'generator'>\n"
     ]
    }
   ],
   "source": [
    "# genertor를 for 문으로 호출\n",
    "def generator_ints(N):\n",
    "    for k in range(N):\n",
    "        yield k\n",
    "        \n",
    "for k in generator_ints(10):\n",
    "    print(k,end=' ')\n",
    "\n",
    "print(type(generator_ints(10))) #  제네레이터는 반복자 객체이다 "
   ]
  },
  {
   "cell_type": "markdown",
   "metadata": {},
   "source": [
    "### 코루틴(Coroutine)\n",
    ": 함수 실행에 있어서 어떤 위치에서 중단과 실행이 가능한 다중 진입점이 있는 일반화된 함수를 말한다"
   ]
  },
  {
   "cell_type": "code",
   "execution_count": 108,
   "metadata": {},
   "outputs": [],
   "source": [
    "def echo():\n",
    "    print('echo routine')\n",
    "    while True:\n",
    "        msg = (yield)\n",
    "        print('echo:',msg)"
   ]
  },
  {
   "cell_type": "code",
   "execution_count": 109,
   "metadata": {},
   "outputs": [
    {
     "name": "stdout",
     "output_type": "stream",
     "text": [
      "<class 'generator'>\n",
      "echo routine\n"
     ]
    }
   ],
   "source": [
    "e = echo() # 코루틴 객체를 생성\n",
    "print(type(e))   # <class 'generator'>\n",
    "next(e)"
   ]
  },
  {
   "cell_type": "code",
   "execution_count": 110,
   "metadata": {},
   "outputs": [
    {
     "name": "stdout",
     "output_type": "stream",
     "text": [
      "echo: None\n"
     ]
    }
   ],
   "source": [
    "next(e)"
   ]
  },
  {
   "cell_type": "code",
   "execution_count": 111,
   "metadata": {},
   "outputs": [
    {
     "name": "stdout",
     "output_type": "stream",
     "text": [
      "echo: Hello~\n"
     ]
    }
   ],
   "source": [
    "e.send('Hello~')"
   ]
  },
  {
   "cell_type": "code",
   "execution_count": 112,
   "metadata": {},
   "outputs": [
    {
     "name": "stdout",
     "output_type": "stream",
     "text": [
      "echo: Bye~\n"
     ]
    }
   ],
   "source": [
    "e.send('Bye~')\n",
    "e.close()"
   ]
  },
  {
   "cell_type": "code",
   "execution_count": 115,
   "metadata": {},
   "outputs": [
    {
     "name": "stdout",
     "output_type": "stream",
     "text": [
      "<class 'generator'>\n"
     ]
    },
    {
     "data": {
      "text/plain": [
       "(1, 1)"
      ]
     },
     "execution_count": 115,
     "metadata": {},
     "output_type": "execute_result"
    }
   ],
   "source": [
    "# 양방향 값 전송 코루틴\n",
    "def accumulate(value = 0):\n",
    "    acc = value\n",
    "    while True:\n",
    "        value = (yield acc,value)\n",
    "        acc += value\n",
    "        \n",
    "acc = accumulate(1) \n",
    "print(type(acc))\n",
    "next(acc)"
   ]
  },
  {
   "cell_type": "code",
   "execution_count": 116,
   "metadata": {},
   "outputs": [
    {
     "data": {
      "text/plain": [
       "(3, 2)"
      ]
     },
     "execution_count": 116,
     "metadata": {},
     "output_type": "execute_result"
    }
   ],
   "source": [
    "acc.send(2)  # 2를 value에 전달해주고 다음 yield문 까지 진행 ,(3,2)를 반환 받는다"
   ]
  },
  {
   "cell_type": "code",
   "execution_count": 117,
   "metadata": {},
   "outputs": [
    {
     "data": {
      "text/plain": [
       "(6, 3)"
      ]
     },
     "execution_count": 117,
     "metadata": {},
     "output_type": "execute_result"
    }
   ],
   "source": [
    "acc.send(3)  # 3를 value에 전달해주고 다음 yield문 까지 진행 ,(6,3)를 반환 받는다"
   ]
  },
  {
   "cell_type": "code",
   "execution_count": 118,
   "metadata": {},
   "outputs": [],
   "source": [
    "acc.close() # 코루틴을 종료한다"
   ]
  },
  {
   "cell_type": "markdown",
   "metadata": {},
   "source": [
    "### (3) 미니 챗봇 구현"
   ]
  },
  {
   "cell_type": "code",
   "execution_count": null,
   "metadata": {},
   "outputs": [],
   "source": []
  },
  {
   "cell_type": "code",
   "execution_count": 43,
   "metadata": {},
   "outputs": [
    {
     "data": {
      "text/plain": [
       "<re.Match object; span=(0, 10), match='Hello Rosa'>"
      ]
     },
     "execution_count": 43,
     "metadata": {},
     "output_type": "execute_result"
    }
   ],
   "source": [
    "r = \"(hi|hello|hey)[ ]*([a-z]*)\"\n",
    "re.match(r,'Hello Rosa',re.I)"
   ]
  },
  {
   "cell_type": "code",
   "execution_count": 44,
   "metadata": {},
   "outputs": [
    {
     "data": {
      "text/plain": [
       "<re.Match object; span=(0, 5), match='hi ho'>"
      ]
     },
     "execution_count": 44,
     "metadata": {},
     "output_type": "execute_result"
    }
   ],
   "source": [
    "re.match(r,\"hi ho, hi hoho, it's off to work ...\",re.I)"
   ]
  },
  {
   "cell_type": "code",
   "execution_count": 45,
   "metadata": {},
   "outputs": [
    {
     "data": {
      "text/plain": [
       "<re.Match object; span=(0, 3), match='hey'>"
      ]
     },
     "execution_count": 45,
     "metadata": {},
     "output_type": "execute_result"
    }
   ],
   "source": [
    "re.match(r,\"hey, what's up\",re.I)"
   ]
  },
  {
   "cell_type": "code",
   "execution_count": 46,
   "metadata": {},
   "outputs": [],
   "source": [
    "# 정규 표현식을 더 확장\n",
    "r = r\"[^a-z]*([y]o|[h]?ello|ok|hey|(good[ ])?(morn[gin']{0,3}|afternoon|even[gin']{0,3}))[\\s,:;]{1,3}([a-z]{1,20})\"                                            \n",
    "re_greeting = re.compile(r,re.I)\n"
   ]
  },
  {
   "cell_type": "code",
   "execution_count": 47,
   "metadata": {},
   "outputs": [
    {
     "data": {
      "text/plain": [
       "<re.Match object; span=(0, 10), match='Hello Rosa'>"
      ]
     },
     "execution_count": 47,
     "metadata": {},
     "output_type": "execute_result"
    }
   ],
   "source": [
    "re_greeting.match('Hello Rosa')"
   ]
  },
  {
   "cell_type": "code",
   "execution_count": 48,
   "metadata": {},
   "outputs": [
    {
     "data": {
      "text/plain": [
       "<re.Match object; span=(0, 17), match='Good morning Rosa'>"
      ]
     },
     "execution_count": 48,
     "metadata": {},
     "output_type": "execute_result"
    }
   ],
   "source": [
    "re_greeting.match('Good morning Rosa')"
   ]
  },
  {
   "cell_type": "code",
   "execution_count": 49,
   "metadata": {},
   "outputs": [],
   "source": [
    "re_greeting.match('Good marning Rosa') # 실패"
   ]
  },
  {
   "cell_type": "code",
   "execution_count": 50,
   "metadata": {},
   "outputs": [
    {
     "data": {
      "text/plain": [
       "('Good evening', 'Good ', 'evening', 'Rosa')"
      ]
     },
     "execution_count": 50,
     "metadata": {},
     "output_type": "execute_result"
    }
   ],
   "source": [
    "re_greeting.match('Good evening Rosa Parks').groups()"
   ]
  },
  {
   "cell_type": "code",
   "execution_count": 51,
   "metadata": {},
   "outputs": [
    {
     "data": {
      "text/plain": [
       "<re.Match object; span=(0, 16), match=\"Good morn'n Rosa\">"
      ]
     },
     "execution_count": 51,
     "metadata": {},
     "output_type": "execute_result"
    }
   ],
   "source": [
    "re_greeting.match(\"Good morn'n Rosa\")"
   ]
  },
  {
   "cell_type": "code",
   "execution_count": 52,
   "metadata": {},
   "outputs": [
    {
     "data": {
      "text/plain": [
       "<re.Match object; span=(0, 7), match='yo Rosa'>"
      ]
     },
     "execution_count": 52,
     "metadata": {},
     "output_type": "execute_result"
    }
   ],
   "source": [
    "re_greeting.match(\"yo Rosa\")"
   ]
  },
  {
   "cell_type": "code",
   "execution_count": 58,
   "metadata": {},
   "outputs": [
    {
     "name": "stdout",
     "output_type": "stream",
     "text": [
      "^*^Hello Rosa\n",
      "Hi 길동, How are you?, Glad to see you.\n"
     ]
    }
   ],
   "source": [
    "# Chatbot\n",
    "r = r\"[^a-z]*([y]o|[h]?ello|ok|hi|hey|(good[ ])?(morn[gin']{0,3}|afternoon|even[gin']{0,3}))[\\s,:;]{1,3}([a-z]{1,20})\"                                            \n",
    "re_greeting = re.compile(r, re.I)\n",
    "\n",
    "my_names = set(['rosa','rose','chatty','chatbot','bot','chatterbot','baby']) # 좋은 단어\n",
    "curt_names = set(['hal','you','u','guy','boy']) # 무뚜뚝한 단어\n",
    "greeter_name = '길동'  # 대화 상대자(사람)\n",
    "\n",
    "match = re_greeting.match(input()) # 'Hello Rosa'\n",
    "\n",
    "if match:\n",
    "    at_name = match.groups()[-1] # 세개의 그룹중 마지막\n",
    "    if at_name in curt_names:\n",
    "        print('Um.. Have a good time.')\n",
    "    elif at_name.lower() in my_names:\n",
    "        print('Hi {}, How are you?, Glad to see you.'.format(greeter_name))    \n",
    " "
   ]
  },
  {
   "cell_type": "code",
   "execution_count": 55,
   "metadata": {},
   "outputs": [],
   "source": [
    "# 실습 : 챗봇 소스에 기능 추가\n",
    "# evil_names 목록을 넣어 대화에 사용하면 화를 내는 코드를 간단히 추가하고 동작을 확인 해보세요\n",
    "# 영어 대답 아래에 동일한 한국어 대답도 출력하게 해보세요\n",
    "# while True를 사용하여 match가 없을 때 종료하도록 수정하세요\n",
    "\n",
    "# 대화가 시작되었습니다!\n",
    "# ----------------------------------------------------------------------\n",
    "# 길동 : Hello Rosa\n",
    "# 컴퓨터 : Hi 길동, How are you? Glad to see you.\n",
    "# 컴퓨터 : 길동씨 안녕하세요,만나서 반갑습니다\n",
    "# ----------------------------------------------------------------------\n",
    "# 길동 : Hi you\n",
    "# 컴퓨터 : Um.. Have a good time.\n",
    "# 컴퓨터 : 음.. 즐거운 시간 되세요.\n",
    "# ----------------------------------------------------------------------\n",
    "# 길동 : Hey idiot\n",
    "# 컴퓨터 : Dear 길동 please, don't talk to me like that : idiot. \n",
    "# 컴퓨터 : 길동아! 제발 그런말 쓰지마! : idiot. \n",
    "# ----------------------------------------------------------------------\n",
    "# 길동 : Bye\n",
    "# 대화가 종료되었습니다!\n"
   ]
  },
  {
   "cell_type": "code",
   "execution_count": 59,
   "metadata": {},
   "outputs": [
    {
     "name": "stdout",
     "output_type": "stream",
     "text": [
      "대화가 시작되었습니다!\n",
      "----------------------------------------------------------------------\n",
      "길동 : Hello Rosa\n",
      "컴퓨터 : Hi 길동, How are you? Glad to see you.\n",
      "컴퓨터 : 길동씨 안녕하세요,만나서 반갑습니다\n",
      "----------------------------------------------------------------------\n",
      "길동 : Hi you\n",
      "컴퓨터 : Um.. Have a good time.\n",
      "컴퓨터 : 음.. 즐거운 시간 되세요.\n",
      "----------------------------------------------------------------------\n",
      "길동 : Hey idiot\n",
      "컴퓨터 : Dear 길동 please, don't talk to me like that : idiot. \n",
      "컴퓨터 : 길동아! 제발 그런말 쓰지마! : idiot. \n",
      "----------------------------------------------------------------------\n",
      "길동 : Bye\n",
      "대화가 종료되었습니다!\n"
     ]
    }
   ],
   "source": [
    "# 실습 답안 : 챗봇 기능 추가 답안\n",
    "\n",
    "import re\n",
    "\n",
    "r = r\"[^a-z]*([y]o|[h]?ello|ok|hi|hey|(good[ ])?(morn[gin']{0,3}|afternoon|even[gin']{0,3}))[\\s,:;]{1,3}([a-z]{1,20})\"                                            \n",
    "re_greeting = re.compile(r, re.I)\n",
    "my_names = set(['rosa','rose','chatty','chatbot','bot','chatterbot','baby']) # 좋은 단어들 리스트\n",
    "curt_names = set(['hal','you','u','guy','boy']) # curt(무뚜뚝한) 이름, 다소 무례한 단어들 리스트\n",
    "evil_names = set(['idiot','fool','ass','sob'])  # 나쁜 단어들 리스트\n",
    "greeter_name = '길동'  # 대화 상대자(사람)\n",
    "computer = '컴퓨터 :'\n",
    "# match = re_greeting.match(input(greeter_name+' : '))\n",
    "print('대화가 시작되었습니다!')\n",
    "print('-'*70)\n",
    "\n",
    "while True:\n",
    "    match = re_greeting.match(input(greeter_name+' : '))\n",
    "    # print(match)\n",
    "    if match :\n",
    "        at_name = match.groups()[-1]\n",
    "        # print(at_name)\n",
    "        if at_name in curt_names:\n",
    "            print(computer,\"Um.. Have a good time.\") \n",
    "            print(computer,\"음.. 즐거운 시간 되세요.\")\n",
    "        elif at_name.lower() in my_names:\n",
    "            print(computer,\"Hi {}, How are you? Glad to see you.\".format(greeter_name))\n",
    "            print(computer,\"{}씨 안녕하세요,만나서 반갑습니다\".format(greeter_name))\n",
    "        elif at_name in evil_names:\n",
    "            print(computer,\"Dear {0} please, don't talk to me like that : {1}. \".format(greeter_name,at_name))\n",
    "            print(computer,\"{0}아! 제발 그런말 쓰지마! : {1}. \".format(greeter_name,at_name))\n",
    "        print('-'*70)\n",
    "    else:\n",
    "        break\n",
    "    \n",
    "print('대화가 종료되었습니다!')    "
   ]
  },
  {
   "cell_type": "code",
   "execution_count": null,
   "metadata": {},
   "outputs": [],
   "source": []
  }
 ],
 "metadata": {
  "kernelspec": {
   "display_name": "Python 3",
   "language": "python",
   "name": "python3"
  },
  "language_info": {
   "codemirror_mode": {
    "name": "ipython",
    "version": 3
   },
   "file_extension": ".py",
   "mimetype": "text/x-python",
   "name": "python",
   "nbconvert_exporter": "python",
   "pygments_lexer": "ipython3",
   "version": "3.7.7"
  }
 },
 "nbformat": 4,
 "nbformat_minor": 4
}
